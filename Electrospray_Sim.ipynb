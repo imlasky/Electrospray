{
 "cells": [
  {
   "cell_type": "markdown",
   "metadata": {},
   "source": [
    "# Electrospray Thruster Modeling"
   ]
  },
  {
   "cell_type": "code",
   "execution_count": 80,
   "metadata": {},
   "outputs": [],
   "source": [
    "import numpy as np\n",
    "import matplotlib.pyplot as plt\n",
    "import matplotlib as mpl\n",
    "import seaborn as sns\n",
    "import pandas as pd\n",
    "import pickle\n",
    "from ipywidgets import interact, interactive, fixed, interact_manual, HBox, VBox\n",
    "import ipywidgets as widgets\n",
    "import time\n",
    "from numpy.random import normal\n",
    "import os\n",
    "import datetime\n",
    "from IPython.display import set_matplotlib_formats\n",
    "from matplotlib import cm\n",
    "from matplotlib.colors import ListedColormap, LinearSegmentedColormap\n",
    "from scipy import optimize\n",
    "set_matplotlib_formats('pdf', 'svg')\n",
    "mpl.rcParams['figure.dpi'] = 300"
   ]
  },
  {
   "cell_type": "markdown",
   "metadata": {},
   "source": [
    "## 1. Monte Carlo Analysis"
   ]
  },
  {
   "cell_type": "code",
   "execution_count": 2,
   "metadata": {},
   "outputs": [],
   "source": [
    "from Capillary_IL import Model"
   ]
  },
  {
   "cell_type": "code",
   "execution_count": 3,
   "metadata": {},
   "outputs": [],
   "source": [
    "fname = 'x.pkl'\n",
    "input_data = pickle.load(open(fname, 'rb'))\n",
    "emi_bf4 = pickle.load(open('EMI_BF4.pkl', 'rb'))"
   ]
  },
  {
   "cell_type": "code",
   "execution_count": 4,
   "metadata": {},
   "outputs": [],
   "source": [
    "def hydro_resist(r, L, mu):\n",
    "    '''Calculate the hydraulic resistance of the feed'''\n",
    "    return (8/np.pi/r**4)*mu*L"
   ]
  },
  {
   "cell_type": "code",
   "execution_count": 5,
   "metadata": {},
   "outputs": [],
   "source": [
    "def set_props(BV, CR_limit, CR_m, CL, CR, div_mult, DEL, N, p_scale, TED, Feed_R, Feed_L, prop):\n",
    "\n",
    "    global input_data\n",
    "    input_data['Boost Voltage'] = BV\n",
    "    input_data['CR Limit'] = CR_limit\n",
    "    input_data['CR_m'] = CR_m\n",
    "    input_data['Capillary Length'] = CL\n",
    "    input_data['Capillary Radius'] = CR\n",
    "    input_data['Div Mult'] = div_mult\n",
    "    input_data['Droplet Energy Loss'] = DEL\n",
    "    input_data['Ne'] = N\n",
    "    input_data['P-Scale'] = p_scale\n",
    "    input_data['Tip-to-Extractor Distance'] = TED\n",
    "    input_data['feed_resist'] = 0\n",
    "\n",
    "    if Feed_R != 0 and Feed_L != 0:\n",
    "        print('here')\n",
    "        if prop == 'EMI-BF4':\n",
    "            input_data['feed_resist'] = hydro_resist(\n",
    "                Feed_R, Feed_L, emi_bf4['Dynamic_Viscosity'])\n",
    "        else:\n",
    "            input_data['feed_resist'] = hydro_resist(\n",
    "                Feed_R, Feed_L, input_data['Propellants']['Dynamic_Viscosity'])"
   ]
  },
  {
   "cell_type": "code",
   "execution_count": 6,
   "metadata": {},
   "outputs": [],
   "source": [
    "def do_calc(data, prop, volt_range, calc_div, divs, **kwargs):\n",
    "    '''Perform the electrospray calculations'''\n",
    "    data['Capillary Radius_std'] = 0\n",
    "    data['V'] = np.linspace(volt_range[0], volt_range[1], divs)\n",
    "#     data['P'] = np.array([2.5])\n",
    "    data['Feed Resistance'] = np.ones(data['V'].shape) * input_data['feed_resist']\n",
    "    data['new_div'] = calc_div\n",
    "    if prop == 'EMI-BF4':\n",
    "        data['Propellants'] = emi_bf4\n",
    "    y = Model.fields(data)[0]\n",
    "    df = pd.DataFrame.from_dict(y)\n",
    "    df['Propellant'] = prop\n",
    "    return df"
   ]
  },
  {
   "cell_type": "code",
   "execution_count": 7,
   "metadata": {},
   "outputs": [],
   "source": [
    "def run_sim(x, y, prop, volt_range, mc, num_runs, new_run, calc_div, divisions, show_both, switch=False, **kwargs):\n",
    "    '''Run the simulation with or without Monte Carlo'''\n",
    "\n",
    "    if not mc:\n",
    "        if prop == 'Both':\n",
    "            df1 = do_calc(input_data.copy(), 'EMI-BF4',\n",
    "                          volt_range, calc_div, divisions)\n",
    "            df2 = do_calc(input_data.copy(), 'EMI-TFSI',\n",
    "                          volt_range, calc_div, divisions)\n",
    "            if show_both:\n",
    "                df1['Divergence Calc'] = calc_div\n",
    "                df2['Divergence Calc'] = calc_div\n",
    "                df3 = do_calc(input_data.copy(), 'EMI-BF4',\n",
    "                          volt_range, not calc_div, divisions)\n",
    "                df4 = do_calc(input_data.copy(), 'EMI-TFSI',\n",
    "                          volt_range, not calc_div, divisions)\n",
    "                df1['Divergence Calc'] = not calc_div\n",
    "                df2['Divergence Calc'] = not calc_div\n",
    "                \n",
    "                df = pd.concat([df1, df2, df3, df4])\n",
    "            else: \n",
    "                df = pd.concat([df1, df2])\n",
    "        else:\n",
    "            if show_both:\n",
    "                df1 = do_calc(input_data.copy(), prop,\n",
    "                         volt_range, calc_div, divisions)\n",
    "                df1['Divergence Calc'] = calc_div\n",
    "                df2 = do_calc(input_data.copy(), prop,\n",
    "                         volt_range, not calc_div, divisions)\n",
    "                df2['Divergence Calc'] = not calc_div\n",
    "\n",
    "                df = pd.concat([df1, df2])\n",
    "            else:\n",
    "                df = do_calc(input_data.copy(), prop,\n",
    "                         volt_range, calc_div, divisions)\n",
    "              \n",
    "        if show_both:\n",
    "            sns.relplot(x=x, y=y, data=df, kind='line', hue='Propellant', style='Divergence Calc')\n",
    "        else:\n",
    "            sns.relplot(x=x, y=y, data=df, kind='line', hue='Propellant')\n",
    "        plt.xlabel(x+' ['+Model.UNITS[x]+']')\n",
    "        plt.ylabel(y+' ['+Model.UNITS[y]+']')\n",
    "        plt.show()\n",
    "    else:\n",
    "        if new_run:\n",
    "            w = widgets.FloatProgress()\n",
    "            w.min = 0\n",
    "            w.max = num_runs-1\n",
    "            w.description = 'Running:'\n",
    "            display(w)\n",
    "            if 'cap_rad' in kwargs:\n",
    "                cap_rad = kwargs['cap_rad']\n",
    "            else:\n",
    "                cap_rad = input_data['Capillary Radius']\n",
    "            if 'cap_std' in kwargs:\n",
    "                cap_std = kwargs['cap_std']\n",
    "            else:\n",
    "                cap_std = 0.1*cap_rad\n",
    "\n",
    "            cap_rads = normal(cap_rad, cap_std, num_runs)\n",
    "            if prop == 'Both':\n",
    "                df1 = do_calc(input_data.copy(), 'EMI-BF4',\n",
    "                              volt_range, calc_div, divisions, cap_rad=cap_rads[0])\n",
    "                df2 = do_calc(input_data.copy(), 'EMI-TFSI',\n",
    "                              volt_range, calc_div, divisions, cap_rad=cap_rads[0])\n",
    "                df = pd.concat([df1, df2])\n",
    "            else:\n",
    "                df1 = do_calc(input_data.copy(), prop,\n",
    "                              volt_range, calc_div, divisions, cap_rad=cap_rads[0])\n",
    "                df = df1\n",
    "\n",
    "            for i in np.arange(1, num_runs):\n",
    "                if prop == 'Both':\n",
    "                    df1 = do_calc(input_data.copy(), 'EMI-BF4',\n",
    "                                  volt_range, calc_div, divisions, cap_rad=cap_rads[i])\n",
    "                    df2 = do_calc(input_data.copy(), 'EMI-TFSI',\n",
    "                                  volt_range, calc_div, divisions, cap_rad=cap_rads[i])\n",
    "                    df = pd.concat([df, df1, df2])\n",
    "                else:\n",
    "                    df1 = do_calc(input_data.copy(), prop,\n",
    "                                  volt_range, calc_div, divisions, cap_rad=cap_rads[i])\n",
    "                    df = pd.concat([df, df1])\n",
    "                w.value = i\n",
    "                w.description = str(\n",
    "                    np.around(100*i/(num_runs-1), decimals=1)) + ' %'\n",
    "            w.description = 'Done!'\n",
    "\n",
    "            fname = 'mc_' + prop + '_' + str(calc_div) + '.p'\n",
    "            pickle.dump(df, open('./monte_carlo_output_data/' + fname, 'wb'))\n",
    "            sns.relplot(x=x, y=y, data=df, kind='line',\n",
    "                        hue='Propellant', ci='sd')\n",
    "            plt.xlabel(x+' ['+Model.UNITS[x]+']')\n",
    "            plt.ylabel(y+' ['+Model.UNITS[y]+']')\n",
    "            plt.show()\n",
    "        else:\n",
    "            fname = 'mc_' + prop + '_' + str(calc_div) + '.p'\n",
    "            try:\n",
    "                df_mc = pickle.load(\n",
    "                    open('./monte_carlo_output_data/' + fname, 'rb'))\n",
    "            except FileNotFoundError:\n",
    "                print('File not found. Please perform a new run.')\n",
    "                return\n",
    "\n",
    "            sns.relplot(x=x, y=y, data=df_mc,\n",
    "                        kind='line', hue='Propellant', ci='sd')\n",
    "#             plt.xlim(volt_range)\n",
    "            plt.xlabel(x+' ['+Model.UNITS[x]+']')\n",
    "            plt.ylabel(y+' ['+Model.UNITS[y]+']')\n",
    "            plt.show()"
   ]
  },
  {
   "cell_type": "code",
   "execution_count": 8,
   "metadata": {},
   "outputs": [
    {
     "data": {
      "application/vnd.jupyter.widget-view+json": {
       "model_id": "95e097ee105e43daa7681582341734a0",
       "version_major": 2,
       "version_minor": 0
      },
      "text/plain": [
       "HBox(children=(VBox(children=(Dropdown(description='x value', options=('V', 'Isp', 'Thrust', 'Mass Flow', 'Eff…"
      ]
     },
     "metadata": {},
     "output_type": "display_data"
    },
    {
     "data": {
      "application/vnd.jupyter.widget-view+json": {
       "model_id": "e56b443efdfb49cab172793319bea826",
       "version_major": 2,
       "version_minor": 0
      },
      "text/plain": [
       "Output()"
      ]
     },
     "metadata": {},
     "output_type": "display_data"
    }
   ],
   "source": [
    "style = {'description_width': 'initial'}\n",
    "x_widget = widgets.Dropdown(options=['V', 'Isp', 'Thrust', 'Mass Flow', 'Efficiency', 'Electric Current', 'Divergence Angle'],\n",
    "                            value='V', description='x value', style=style)\n",
    "y_widget = widgets.Dropdown(options=['V', 'Isp', 'Thrust', 'Mass Flow', 'Efficiency', 'Electric Current', 'Divergence Angle'],\n",
    "                            value='Isp', description='y value', style=style)\n",
    "volt_widget = widgets.IntRangeSlider(min=0, max=10000, step=100, continuous_update=False,\n",
    "                                     description='Voltage Range', style=style)\n",
    "num_run_widget = widgets.IntSlider(min=0, max=1000, value=500, step=100, continuous_update=False,\n",
    "                                   description='Number of Runs', style=style)\n",
    "mc_widget = widgets.Checkbox(\n",
    "    value=False, description='Run Monte Carlo', style=style)\n",
    "prop_widget = widgets.Dropdown(options=['EMI-TFSI', 'EMI-BF4', 'Both'], value='EMI-TFSI',\n",
    "                               description='Propellant', style=style)\n",
    "new_run_widget = widgets.Checkbox(\n",
    "    value=False, description='New Monte Carlo Run', style=style)\n",
    "cap_rad_widget = widgets.BoundedFloatText(value=3.95E-6, description='Capillary Radius',\n",
    "                                          style=style)\n",
    "cap_rad_std_widget = widgets.BoundedFloatText(value=2.5E-7, description='Capillary Radius St.D',\n",
    "                                              style=style)\n",
    "use_calc_div_widget = widgets.Checkbox(\n",
    "    value=True, description='Adjust with Calc Divergence', style=style)\n",
    "divisions_widget = widgets.IntSlider(\n",
    "    min=101, max=5001, description='Voltage Divisons', style=style)\n",
    "\n",
    "show_both_div_widget = widgets.Checkbox(\n",
    "    value=False, description='Show Calculation with and Without Divergence Calc', style=style)\n",
    "\n",
    "BV = widgets.FloatText(value=0, description='Boost Voltage', style=style)\n",
    "CR_limit = widgets.FloatText(value=3, description='CR Limit', style=style)\n",
    "CR_m = widgets.FloatText(\n",
    "    value=1.806e-8, description='Slope Parameter', style=style)\n",
    "CL = widgets.FloatText(\n",
    "    value=100e-05, description='Capillary Length', style=style)\n",
    "CR = widgets.FloatText(\n",
    "    value=74e-06, description='Capillary Radius', style=style)\n",
    "div_mult = widgets.FloatText(\n",
    "    value=23, description='Divergence Multiplier', style=style)\n",
    "DEL = widgets.FloatText(\n",
    "    value=0, description='Droplet Energy Loss', style=style)\n",
    "N = widgets.IntText(value=1, description='Number of Emitters', style=style)\n",
    "p_scale = widgets.FloatText(value=0, description='P_scale', style=style)\n",
    "TED = widgets.FloatText(\n",
    "    value=0.0003, description='Tip-to-Extractor Distance', style=style)\n",
    "Feed_R = widgets.FloatText(\n",
    "    value=7.6e-5, description='Feed Radius', style=style)\n",
    "Feed_L = widgets.FloatText(value=1.016, description='Feed Length', style=style)\n",
    "\n",
    "\n",
    "Lbox = VBox([x_widget, y_widget, prop_widget, volt_widget,\n",
    "             num_run_widget, divisions_widget, mc_widget, new_run_widget, use_calc_div_widget, show_both_div_widget])\n",
    "Cbox = VBox([cap_rad_widget, cap_rad_std_widget])\n",
    "Rbox = VBox([BV, CR_limit, CR_m, CL, CR, div_mult,\n",
    "             DEL, N, p_scale, TED, Feed_R, Feed_L])\n",
    "ui = HBox([Lbox, Rbox])\n",
    "\n",
    "props = widgets.interactive_output(set_props, {'BV': BV, 'CR_limit': CR_limit, 'CR_m': CR_m, 'CL': CL,\n",
    "                                               'CR': CR, 'div_mult': div_mult, 'DEL': DEL, 'N': N,\n",
    "                                               'p_scale': p_scale, 'TED': TED, 'Feed_R': Feed_R, 'Feed_L': Feed_L,\n",
    "                                               'prop': prop_widget})\n",
    "sim = widgets.interactive_output(run_sim, {'x': x_widget, 'y': y_widget, 'prop': prop_widget, 'mc': mc_widget,\n",
    "                                           'volt_range': volt_widget, 'num_runs': num_run_widget,\n",
    "                                           'new_run': new_run_widget, 'cap_rad': cap_rad_widget,\n",
    "                                           'cap_std': cap_rad_std_widget, 'calc_div': use_calc_div_widget,\n",
    "                                           'divisions': divisions_widget, 'show_both': show_both_div_widget})\n",
    "display(ui, sim)"
   ]
  },
  {
   "cell_type": "markdown",
   "metadata": {},
   "source": [
    "## 2. Sensitivity Analysis"
   ]
  },
  {
   "cell_type": "markdown",
   "metadata": {},
   "source": [
    "This section aims to identify the influence of the variance of input parameters on the output of the model. Saltelli sampling with Sobol sensisitivity analysis is implemented. The user can choose the number of samples to choose as well as specify the bounds for the input parameters.\n",
    "\n",
    "There are 11 main factors that influence the output of the simulation, namely:\n",
    "\n",
    "* Boost Voltage - Acceleration voltage in addition to extraction voltage\n",
    "* CR Limit - Propellant specific mode switching parameter. At dimensionless hydrualic resistances CR greater than CR Limit, emission site is modeled to operate in pure ionic mode\n",
    "* CR_m - VI slope parameter for pure ionic mode\n",
    "* Capillary Length\n",
    "* Capillary Radius\n",
    "* ~~Divergence Angle - Spray divergence half angle~~\n",
    "* Divergence Multiplier - Constant that is experimentally evaluated\n",
    "* Droplet Energy Loss - Estimated energy loss of droplets due to cone-jet electrical resistance\n",
    "* P scale - Scaling factor for field-induced pressure\n",
    "* Tip-to-Extractor Distance\n",
    "* Feed Length\n",
    "* Feed Radius"
   ]
  },
  {
   "cell_type": "code",
   "execution_count": 9,
   "metadata": {},
   "outputs": [],
   "source": [
    "from SALib.sample import saltelli\n",
    "from SALib.analyze import sobol"
   ]
  },
  {
   "cell_type": "code",
   "execution_count": 10,
   "metadata": {},
   "outputs": [],
   "source": [
    "BV = [0, 2500]\n",
    "CR_limit = [0, 3]\n",
    "CR_m = [0, 2e-8]\n",
    "CL = [80e-5, 120e-5]\n",
    "CR = [65e-6, 85e-6]\n",
    "#DA = [5, 40]\n",
    "# div_mult = [1, 100]\n",
    "P = [0, 100]\n",
    "DEL = [0, 200]\n",
    "p_scale = [0, 1]\n",
    "TED = [0.0001, 0.001]\n",
    "Feed_R = [1.3e-4, 1.7e-4]\n",
    "Feed_L = [1, 1.03]\n",
    "\n",
    "names = ['Boost Voltage', 'CR Limit', 'CR_m', 'Capillary Length',\n",
    "         'Capillary Radius', 'P', 'Droplet Energy Loss',\n",
    "         'P-Scale', 'Tip-to-Extractor Distance', 'Feed Radius', 'Feed Length']\n",
    "bounds = [BV, CR_limit, CR_m, CL, CR, P, DEL, p_scale, TED, Feed_R, Feed_L]\n",
    "problem = {'num_vars': 11, 'names': names, 'bounds': bounds}"
   ]
  },
  {
   "cell_type": "code",
   "execution_count": 11,
   "metadata": {},
   "outputs": [],
   "source": [
    "Si = {}\n",
    "\n",
    "\n",
    "def print_out(s):\n",
    "    print('Analyzing: ' + s + '...', end='')\n",
    "\n",
    "\n",
    "def sensitivity(N, Save_Data):\n",
    "\n",
    "    param_values = saltelli.sample(problem, N)\n",
    "    Y = np.zeros([param_values.shape[0]])\n",
    "    x = input_data.copy()\n",
    "    V_len = 101\n",
    "    Vs = np.linspace(500, 3000, V_len)\n",
    "    x['V'] = Vs\n",
    "    x['Ne'] = 1\n",
    "    w = widgets.FloatProgress(style=style)\n",
    "    out = widgets.Output(layout={'border': '1px solid black'})\n",
    "    w.min = 0\n",
    "    w.max = len(param_values)\n",
    "    display(w)\n",
    "    global Si\n",
    "\n",
    "    model_runs = []\n",
    "    x['new_div'] = True\n",
    "    mu = x['Propellants']['Dynamic_Viscosity']\n",
    "\n",
    "    for i, vals in enumerate(param_values):\n",
    "        x['Feed Resistance'] *= 0\n",
    "        for field, val in zip(names, vals):\n",
    "            x[field] = val\n",
    "            if field == 'P':\n",
    "                x[field] = np.array([val])\n",
    "        x['Feed Resistance'] += hydro_resist(x['Feed Radius'],\n",
    "                                             x['Feed Length'], mu)\n",
    "        y_temp = Model.fields(x)[0]\n",
    "        w.value += 1\n",
    "        w.description = 'Running Simulations...' + \\\n",
    "            str(np.around(100*w.value/len(param_values), decimals=1)) + ' %'\n",
    "        model_runs.append(y_temp)\n",
    "\n",
    "    w.description = 'Done!'\n",
    "    for F in ['Isp', 'Thrust', 'Mass Flow', 'Efficiency', 'Electric Current', 'Divergence Angle']:\n",
    "\n",
    "        print_out(F)\n",
    "\n",
    "        sub_probs = []\n",
    "        for i in np.arange(0, V_len):\n",
    "            j = 0\n",
    "            for m in model_runs:\n",
    "                Y[j] = m[F][i]\n",
    "                j += 1\n",
    "            temp_res = sobol.analyze(problem, Y)\n",
    "            sub_probs.append(temp_res)\n",
    "        Si[F] = sub_probs\n",
    "\n",
    "        print('Done!')\n",
    "\n",
    "    if Save_Data:\n",
    "        pickle.dump(\n",
    "            Si, open('./sensitivity_output_data/sens_out_'+str(N)+'_all_V_P.p', 'wb'))\n",
    "        pickle.dump(model_runs, open(\n",
    "            './sensitivity_output_data/model_runs_'+str(N)+'_all_V_P.p', 'wb'))"
   ]
  },
  {
   "cell_type": "code",
   "execution_count": 12,
   "metadata": {},
   "outputs": [
    {
     "data": {
      "application/vnd.jupyter.widget-view+json": {
       "model_id": "8bc6c6d8ca1a4882b4bee01ac358d001",
       "version_major": 2,
       "version_minor": 0
      },
      "text/plain": [
       "interactive(children=(IntSlider(value=2500, description='N', max=5000, min=1), Checkbox(value=False, descripti…"
      ]
     },
     "metadata": {},
     "output_type": "display_data"
    }
   ],
   "source": [
    "sens_sim = interact_manual(sensitivity, N=(1, 5000), Save_Data=False)\n",
    "sens_sim.widget.children[2].description = 'Run Sensitivity'"
   ]
  },
  {
   "cell_type": "code",
   "execution_count": 97,
   "metadata": {},
   "outputs": [
    {
     "data": {
      "application/vnd.jupyter.widget-view+json": {
       "model_id": "da6077158840438e96852342f439d53b",
       "version_major": 2,
       "version_minor": 0
      },
      "text/plain": [
       "interactive(children=(Dropdown(description='field', options=('Isp', 'Thrust', 'Mass Flow', 'Efficiency', 'Elec…"
      ]
     },
     "metadata": {},
     "output_type": "display_data"
    }
   ],
   "source": [
    "sns.set()\n",
    "fnames = []\n",
    "for root, dirs, files in os.walk('./sensitivity_output_data'):\n",
    "    for file in files:\n",
    "        if file.endswith('.p'):\n",
    "            fnames.append(root+'/'+file)\n",
    "\n",
    "\n",
    "@interact\n",
    "def parametric_sensitivty(field=['Isp', 'Thrust', 'Mass Flow', 'Efficiency', 'Electric Current', 'Divergence Angle'],\n",
    "                          order=['S1', 'S2', 'ST'], plot_type=['Bar', 'Pie'],\n",
    "                          file=widgets.Select(\n",
    "                              options=fnames, description='Files'),\n",
    "                          robust=True,\n",
    "                          png=False):\n",
    "\n",
    "    if png:\n",
    "        set_matplotlib_formats('png')\n",
    "    else:\n",
    "        set_matplotlib_formats('pdf', 'svg')\n",
    "\n",
    "    try:\n",
    "        Si = pickle.load(open(file, 'rb'))\n",
    "    except FileNotFoundError:\n",
    "        print('Sensitivity analysis not performed')\n",
    "        return\n",
    "\n",
    "    V_len = 101\n",
    "    Vs = np.linspace(500, 3000, V_len)\n",
    "    if order != 'S2':\n",
    "        data = [Si[field][i][order] for i in np.arange(0, len(Si[field]))]\n",
    "        data_array = np.nan_to_num(np.array(data))\n",
    "        df = pd.DataFrame(data_array, columns=names)\n",
    "        p_scale = df['P-Scale']\n",
    "        df['V'] = Vs\n",
    "        df = df.melt('V', var_name='Param', value_name=order)\n",
    "\n",
    "        sns.relplot(x='V', y=order, data=df, kind='line', hue='Param')\n",
    "        \n",
    "        def test_func(x, a, b):\n",
    "            return a*x**b\n",
    "        \n",
    "        params, params_covariance = optimize.curve_fit(test_func, Vs[60:], p_scale[60:], p0=[-1, 2])\n",
    "        print(params)\n",
    "        \n",
    "        \n",
    "        \n",
    "#         for i in np.arange(0, data_array.shape[1]):\n",
    "#             #             if names[i] == 'Tip-to-Extractor Distance':\n",
    "#             #                 continue\n",
    "#             plt.plot(Vs, data_array[:, i], label=names[i])\n",
    "\n",
    "#         plt.legend(bbox_to_anchor=(1, 1))\n",
    "        plt.xlim((1000, 3000))\n",
    "        plt.ylim((-0.25, 1.25))\n",
    "#         plt.ylabel(order)\n",
    "#         plt.xlabel('Voltage [V]')\n",
    "        plt.title(field)\n",
    "        plt.show()"
   ]
  },
  {
   "cell_type": "code",
   "execution_count": 14,
   "metadata": {
    "scrolled": false
   },
   "outputs": [
    {
     "data": {
      "application/vnd.jupyter.widget-view+json": {
       "model_id": "f9b702e71c4844ce93026e8aa7d14a7e",
       "version_major": 2,
       "version_minor": 0
      },
      "text/plain": [
       "interactive(children=(Dropdown(description='field', options=('Isp', 'Thrust', 'Mass Flow', 'Efficiency', 'Elec…"
      ]
     },
     "metadata": {},
     "output_type": "display_data"
    }
   ],
   "source": [
    "sns.set()\n",
    "fnames = []\n",
    "for root, dirs, files in os.walk('./sensitivity_output_data'):\n",
    "    for file in files:\n",
    "        if file.endswith('.p'):\n",
    "            fnames.append(root+'/'+file)\n",
    "\n",
    "\n",
    "@interact\n",
    "def visual_sens(field=['Isp', 'Thrust', 'Mass Flow', 'Efficiency', 'Electric Current', 'Divergence Angle'],\n",
    "                order=['S1', 'S2', 'ST'], plot_type=['Bar', 'Pie'],\n",
    "                file=widgets.Select(options=fnames, description='Files'),\n",
    "                robust=True,\n",
    "                png=False):\n",
    "\n",
    "    if png:\n",
    "        set_matplotlib_formats('png')\n",
    "    else:\n",
    "        set_matplotlib_formats('pdf', 'svg')\n",
    "\n",
    "    try:\n",
    "        Si = pickle.load(open(file, 'rb'))\n",
    "    except FileNotFoundError:\n",
    "        print('Sensitivity analysis not performed')\n",
    "        return\n",
    "    temp_dat = Si[field][50]\n",
    "    data = temp_dat[order]\n",
    "    ind = np.arange(len(data))\n",
    "    if order != 'S2':\n",
    "        if plot_type == 'Bar':\n",
    "            plt.bar(ind, data, yerr=temp_dat[order+'_conf'])\n",
    "            plt.xticks(ind, names, rotation='vertical')\n",
    "            plt.ylim(top=1.5)\n",
    "            plt.ylim(bottom=-0.1)\n",
    "        elif plot_type == 'Pie':\n",
    "            plt.pie(data, labels=names, autopct='%1.1f%%', startangle=90)\n",
    "            \n",
    "        plt.ylabel(order)\n",
    "        plt.title(field)\n",
    "        plt.show()\n",
    "    else:\n",
    "        #         data = temp_dat[order+'_conf']\n",
    "        df = pd.DataFrame(100*np.transpose(data), columns=names)\n",
    "        sns.heatmap(df, yticklabels=names, annot=True,\n",
    "                    fmt='.1f', robust=robust)\n",
    "        plt.title(field + ', S2 (x100)')\n",
    "        plt.show()"
   ]
  },
  {
   "cell_type": "markdown",
   "metadata": {},
   "source": [
    "### Monte Carlo from Sensitivity Data"
   ]
  },
  {
   "cell_type": "code",
   "execution_count": 15,
   "metadata": {},
   "outputs": [
    {
     "data": {
      "application/vnd.jupyter.widget-view+json": {
       "model_id": "e9ddcb69c93a40dbb87568ea4ad6deca",
       "version_major": 2,
       "version_minor": 0
      },
      "text/plain": [
       "interactive(children=(Select(description='Files', options=('./sensitivity_output_data/model_runs_100.p', './se…"
      ]
     },
     "metadata": {},
     "output_type": "display_data"
    }
   ],
   "source": [
    "fnames = []\n",
    "for root, dirs, files in os.walk('./sensitivity_output_data'):\n",
    "    for file in files:\n",
    "        if file.endswith('.p'):\n",
    "            fnames.append(root+'/'+file)\n",
    "\n",
    "@interact_manual\n",
    "def load_mc_data(file=widgets.Select(options=fnames, description='Files')):\n",
    "\n",
    "    global plot_frame\n",
    "    try:\n",
    "        plot_data = pickle.load(open(file, 'rb'))\n",
    "        data_frames = []\n",
    "        for i in np.arange(0, len(plot_data)):\n",
    "            temp_df = pd.DataFrame.from_dict(plot_data[i])\n",
    "            data_frames.append(temp_df)\n",
    "        \n",
    "        plot_frame = pd.concat(data_frames)\n",
    "        print('Loaded data successfully.')\n",
    "    except FileNotFoundError:\n",
    "        print('Invalid file selection')"
   ]
  },
  {
   "cell_type": "code",
   "execution_count": 108,
   "metadata": {},
   "outputs": [
    {
     "data": {
      "application/vnd.jupyter.widget-view+json": {
       "model_id": "73df71dee27547ec807e86232a3970a3",
       "version_major": 2,
       "version_minor": 0
      },
      "text/plain": [
       "interactive(children=(Dropdown(description='x', options=('V', 'Isp', 'Thrust', 'Mass Flow', 'Efficiency', 'Ele…"
      ]
     },
     "metadata": {},
     "output_type": "display_data"
    }
   ],
   "source": [
    "def tsplot(x, y, n=20, percentile_min=1, percentile_max=99, color='b', plot_mean=True, plot_median=False, line_color='k', **kwargs):\n",
    "    # calculate the lower and upper percentile groups, skipping 50 percentile\n",
    "\n",
    "    percs1 = np.linspace(percentile_min, 50, num=n, endpoint=False)\n",
    "    percs2 = np.linspace(50, percentile_max, num=n+1)[1:]\n",
    "    perc1 = np.percentile(y, percs1, axis=0)\n",
    "    perc2 = np.percentile(y, percs2, axis=0)\n",
    "\n",
    "    if 'alpha' in kwargs:\n",
    "        alpha = kwargs.pop('alpha')\n",
    "    else:\n",
    "        alpha = 1/n\n",
    "    # fill lower and upper percentile groups\n",
    "    for p1, p2 in zip(perc1, perc2):\n",
    "        plt.fill_between(x, p1, p2, alpha=alpha, color=color, edgecolor=None)\n",
    "\n",
    "    if plot_mean:\n",
    "        plt.plot(x, np.mean(y, axis=0), color=line_color)\n",
    "\n",
    "    if plot_median:\n",
    "        plt.plot(x, np.median(y, axis=0), color=line_color)\n",
    "\n",
    "    return plt.gca()\n",
    "\n",
    "\n",
    "@interact_manual\n",
    "def sens_MC(x=['V', 'Isp', 'Thrust', 'Mass Flow', 'Efficiency', 'Electric Current', 'Divergence Angle'],\n",
    "            y=['V', 'Isp', 'Thrust', 'Mass Flow', 'Efficiency', 'Electric Current',\n",
    "                'Divergence Angle', 'Median CR', 'Number of Sites In Ion Mode', 'Number of Active Sites'],\n",
    "            png=False):\n",
    "\n",
    "    global plot_frame\n",
    "    if png:\n",
    "        set_matplotlib_formats('png')\n",
    "    else:\n",
    "        set_matplotlib_formats('pdf', 'svg')\n",
    "\n",
    "    x_data = plot_frame[x][:101]\n",
    "    y_data = plot_frame[y]\n",
    "\n",
    "    y_data = y_data.values.reshape((-1, 101))\n",
    "\n",
    "\n",
    "#     sns.relplot(x=x, y=y, data=plot_frame, ci='sd', kind='line')\n",
    "#     plt.scatter(plot_x, plot_y)\n",
    "    tsplot(x_data, y_data, percentile_min=25, percentile_max=75,\n",
    "           n=1, plot_mean=False, plot_median=True, alpha=0.3)\n",
    "    tsplot(x_data, y_data, percentile_min=5, percentile_max=95,\n",
    "           n=1, plot_mean=False, plot_median=False, alpha=0.3)\n",
    "\n",
    "#     sns.scatterplot(x=x, y=y, data=plot_frame, estimator=None, lw=1)\n",
    "    plt.title(x + ' vs. ' + y)\n",
    "#     plt.xlim((1000, 3000))\n",
    "    plt.xlabel(x+' ['+Model.UNITS[x]+']')\n",
    "    plt.ylabel(y+' ['+Model.UNITS[y]+']')\n",
    "    plt.show()"
   ]
  },
  {
   "cell_type": "code",
   "execution_count": null,
   "metadata": {},
   "outputs": [],
   "source": []
  }
 ],
 "metadata": {
  "kernelspec": {
   "display_name": "Python 3",
   "language": "python",
   "name": "python3"
  },
  "language_info": {
   "codemirror_mode": {
    "name": "ipython",
    "version": 3
   },
   "file_extension": ".py",
   "mimetype": "text/x-python",
   "name": "python",
   "nbconvert_exporter": "python",
   "pygments_lexer": "ipython3",
   "version": "3.7.3"
  }
 },
 "nbformat": 4,
 "nbformat_minor": 2
}
